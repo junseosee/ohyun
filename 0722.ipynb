{
  "nbformat": 4,
  "nbformat_minor": 0,
  "metadata": {
    "colab": {
      "name": "0722.ipynb",
      "provenance": []
    },
    "kernelspec": {
      "name": "python3",
      "display_name": "Python 3"
    },
    "language_info": {
      "name": "python"
    }
  },
  "cells": [
    {
      "cell_type": "code",
      "execution_count": null,
      "metadata": {
        "id": "f2M7eJ-lh-rU"
      },
      "outputs": [],
      "source": [
        "print(\"hello world!\")"
      ]
    },
    {
      "cell_type": "code",
      "source": [
        "문자=1"
      ],
      "metadata": {
        "id": "tS52eIlfjM47"
      },
      "execution_count": null,
      "outputs": []
    },
    {
      "cell_type": "code",
      "source": [
        "print(문자)"
      ],
      "metadata": {
        "id": "P0sen0nmkSyK"
      },
      "execution_count": null,
      "outputs": []
    },
    {
      "cell_type": "markdown",
      "source": [
        ""
      ],
      "metadata": {
        "id": "sRNTXg2vkM2o"
      }
    },
    {
      "cell_type": "code",
      "source": [
        "print(\"\\\"\")"
      ],
      "metadata": {
        "id": "f4ywISbfkL2D"
      },
      "execution_count": null,
      "outputs": []
    },
    {
      "cell_type": "code",
      "source": [
        "print(\"안녕하세요\\b\")# \\b는 백스페이스"
      ],
      "metadata": {
        "id": "8Kns5wgRm7PL"
      },
      "execution_count": null,
      "outputs": []
    },
    {
      "cell_type": "code",
      "source": [
        "print(\"안녕하\\n신가\")# \\n은 줄바꿈"
      ],
      "metadata": {
        "id": "R3_PeqbCnNZF"
      },
      "execution_count": null,
      "outputs": []
    },
    {
      "cell_type": "code",
      "source": [
        "print(\"안녕하\\t세요\")#\\t는 탭"
      ],
      "metadata": {
        "id": "qhGiD9UQnWri"
      },
      "execution_count": null,
      "outputs": []
    },
    {
      "cell_type": "code",
      "source": [
        "print(\"안녕하\\\\세요\")# \\\\ \\문자 적어주기"
      ],
      "metadata": {
        "id": "5W66PJB4nmKN"
      },
      "execution_count": null,
      "outputs": []
    },
    {
      "cell_type": "code",
      "source": [
        "print(\"\\\" \\'\")#\\\" 이건 쌍다움표 \\'이건 따음표"
      ],
      "metadata": {
        "id": "MjF_DtmJntxs"
      },
      "execution_count": null,
      "outputs": []
    },
    {
      "cell_type": "code",
      "source": [
        "print(\"\\\\\\\"(\\'.\\')\\\"/\")"
      ],
      "metadata": {
        "id": "0NatZljFoAce"
      },
      "execution_count": null,
      "outputs": []
    },
    {
      "cell_type": "code",
      "source": [
        "print(\"데이터1\",\"데이터2\",\"데이터3\",sep=\"\")"
      ],
      "metadata": {
        "id": "MlXpMisvp26P"
      },
      "execution_count": null,
      "outputs": []
    },
    {
      "cell_type": "code",
      "source": [
        "print(\"데이터1\",\"데이터2\",\"데이터3\",sep=\"\\n\",end=\"끝\")"
      ],
      "metadata": {
        "id": "xoo3vktGqZnu"
      },
      "execution_count": null,
      "outputs": []
    },
    {
      "cell_type": "code",
      "source": [
        "print(\"010\",\"2310\",\"3085\",sep=\"-\")"
      ],
      "metadata": {
        "colab": {
          "base_uri": "https://localhost:8080/"
        },
        "id": "rWrrfjBaqqAf",
        "outputId": "70d58535-0f51-49f0-fa52-e945e51257a2"
      },
      "execution_count": null,
      "outputs": [
        {
          "output_type": "stream",
          "name": "stdout",
          "text": [
            "010-2310-3085\n"
          ]
        }
      ]
    },
    {
      "cell_type": "code",
      "source": [
        "이름 = \"윤준서\" "
      ],
      "metadata": {
        "id": "51_vdCgvycEl"
      },
      "execution_count": null,
      "outputs": []
    },
    {
      "cell_type": "code",
      "source": [
        "print(이름)"
      ],
      "metadata": {
        "id": "XargoWQMy8jH"
      },
      "execution_count": null,
      "outputs": []
    },
    {
      "cell_type": "code",
      "source": [
        " 반 = \"6\""
      ],
      "metadata": {
        "id": "APeu-NJwzKRX"
      },
      "execution_count": null,
      "outputs": []
    },
    {
      "cell_type": "code",
      "source": [
        "반_데이터타입 = type(반)\n",
        "print(반_데이터타입)"
      ],
      "metadata": {
        "colab": {
          "base_uri": "https://localhost:8080/"
        },
        "id": "OumntlcpzKYJ",
        "outputId": "917fd9bd-7539-4f68-c998-937ee0866720"
      },
      "execution_count": null,
      "outputs": [
        {
          "output_type": "stream",
          "name": "stdout",
          "text": [
            "<class 'str'>\n"
          ]
        }
      ]
    },
    {
      "cell_type": "code",
      "source": [
        "이름_데이터타입 = type(이름)\n",
        "print(이름_데이터타입)"
      ],
      "metadata": {
        "colab": {
          "base_uri": "https://localhost:8080/"
        },
        "id": "Pfpv73O_z1oC",
        "outputId": "e90dbb03-5c85-4d0b-cb05-b935e2c0f524"
      },
      "execution_count": null,
      "outputs": [
        {
          "output_type": "stream",
          "name": "stdout",
          "text": [
            "<class 'str'>\n"
          ]
        }
      ]
    },
    {
      "cell_type": "code",
      "source": [
        "소수 = 0.12\n",
        "소수_데이터타입 = type(소수)\n",
        "print(소수_데이터타입)"
      ],
      "metadata": {
        "colab": {
          "base_uri": "https://localhost:8080/"
        },
        "id": "S49n_RRu0Chd",
        "outputId": "768fb7a5-cda8-45e6-a6a0-e1b6af8cf150"
      },
      "execution_count": null,
      "outputs": [
        {
          "output_type": "stream",
          "name": "stdout",
          "text": [
            "<class 'float'>\n"
          ]
        }
      ]
    },
    {
      "cell_type": "code",
      "source": [
        "print(0b10)"
      ],
      "metadata": {
        "colab": {
          "base_uri": "https://localhost:8080/"
        },
        "id": "kywhOhZP0QY8",
        "outputId": "88cd5252-005a-4ca7-b74d-5928b994b04f"
      },
      "execution_count": null,
      "outputs": [
        {
          "output_type": "stream",
          "name": "stdout",
          "text": [
            "2\n"
          ]
        }
      ]
    },
    {
      "cell_type": "code",
      "source": [
        "print(0o10)"
      ],
      "metadata": {
        "colab": {
          "base_uri": "https://localhost:8080/"
        },
        "id": "Z1avEOm90r0J",
        "outputId": "f2e3f684-7c09-4928-ccd1-613e877daab5"
      },
      "execution_count": null,
      "outputs": [
        {
          "output_type": "stream",
          "name": "stdout",
          "text": [
            "8\n"
          ]
        }
      ]
    },
    {
      "cell_type": "code",
      "source": [
        "print(0x10)"
      ],
      "metadata": {
        "colab": {
          "base_uri": "https://localhost:8080/"
        },
        "id": "Tthh1v1k0wjA",
        "outputId": "9c60927c-2fb7-49db-9dfb-055df993bd4b"
      },
      "execution_count": null,
      "outputs": [
        {
          "output_type": "stream",
          "name": "stdout",
          "text": [
            "16\n"
          ]
        }
      ]
    },
    {
      "cell_type": "code",
      "source": [
        "print(10+5) #더하기연산\n",
        "print(10-5) #뺴기 연산\n",
        "print(10/2) # 나누기 연산\n",
        "print(10*2) # 곱하기여낫ㄴ"
      ],
      "metadata": {
        "colab": {
          "base_uri": "https://localhost:8080/"
        },
        "id": "F9suQPOO1LCD",
        "outputId": "a577723c-1b3a-403a-b0c6-38db42f2377d"
      },
      "execution_count": null,
      "outputs": [
        {
          "output_type": "stream",
          "name": "stdout",
          "text": [
            "15\n",
            "5\n",
            "5.0\n",
            "20\n"
          ]
        }
      ]
    },
    {
      "cell_type": "code",
      "source": [
        "print(3**2) #제곱 연산"
      ],
      "metadata": {
        "colab": {
          "base_uri": "https://localhost:8080/"
        },
        "id": "mLC6oxn12J-t",
        "outputId": "468d37cf-7d51-431a-b26f-15262e5d543a"
      },
      "execution_count": null,
      "outputs": [
        {
          "output_type": "stream",
          "name": "stdout",
          "text": [
            "9\n"
          ]
        }
      ]
    },
    {
      "cell_type": "code",
      "source": [
        "print(15%10) #나머지 연산"
      ],
      "metadata": {
        "colab": {
          "base_uri": "https://localhost:8080/"
        },
        "id": "dBYOIvpZ19Om",
        "outputId": "98f6d4c7-2b2f-41c6-cbdb-86f89688190e"
      },
      "execution_count": null,
      "outputs": [
        {
          "output_type": "stream",
          "name": "stdout",
          "text": [
            "5\n"
          ]
        }
      ]
    },
    {
      "cell_type": "code",
      "source": [
        "print(15//10) #몫 연산"
      ],
      "metadata": {
        "colab": {
          "base_uri": "https://localhost:8080/"
        },
        "id": "UEQpks7e2B2M",
        "outputId": "81a2ac7c-617e-4db8-d364-47388d5704a1"
      },
      "execution_count": null,
      "outputs": [
        {
          "output_type": "stream",
          "name": "stdout",
          "text": [
            "1\n"
          ]
        }
      ]
    },
    {
      "cell_type": "code",
      "source": [
        "문자열 = \"문자열내용\"\n",
        "문자열2 = '문자열내용2'\n",
        "문자열3 = \"\"\"문자열내용3\"\"\"\n",
        "문자열4 = '''문자열내용4'''\n",
        "print(문자열)\n",
        "print(문자열2)\n",
        "print(문자열3)\n",
        "print(문자열4)"
      ],
      "metadata": {
        "colab": {
          "base_uri": "https://localhost:8080/"
        },
        "id": "93Jl6RJr2n0L",
        "outputId": "61d00458-10fe-4d34-8413-5b07bcef4a6e"
      },
      "execution_count": null,
      "outputs": [
        {
          "output_type": "stream",
          "name": "stdout",
          "text": [
            "문자열내용\n",
            "문자열내용2\n",
            "문자열내용3\n",
            "문자열내용4\n"
          ]
        }
      ]
    },
    {
      "cell_type": "code",
      "source": [
        "print(문자열+문자열2)"
      ],
      "metadata": {
        "colab": {
          "base_uri": "https://localhost:8080/"
        },
        "id": "OxEWVPO_3dyH",
        "outputId": "3e798603-e740-4000-f253-230b50cc9141"
      },
      "execution_count": null,
      "outputs": [
        {
          "output_type": "stream",
          "name": "stdout",
          "text": [
            "문자열내용문자열내용2\n"
          ]
        }
      ]
    },
    {
      "cell_type": "code",
      "source": [
        "이름= \"나\"\n",
        "인사= '하이'\n",
        "인사말=(인사+\"\"+\"나는\"+이름+\"임\"+\"\\n\")"
      ],
      "metadata": {
        "id": "ilbzLdCt3uB-"
      },
      "execution_count": null,
      "outputs": []
    },
    {
      "cell_type": "code",
      "source": [
        "print(인사말)"
      ],
      "metadata": {
        "colab": {
          "base_uri": "https://localhost:8080/"
        },
        "id": "h9rXWF0I8PM7",
        "outputId": "958c0967-6480-42b7-da04-3e6cf53529ee"
      },
      "execution_count": null,
      "outputs": [
        {
          "output_type": "stream",
          "name": "stdout",
          "text": [
            "하이나는나임\n",
            "\n"
          ]
        }
      ]
    },
    {
      "cell_type": "code",
      "source": [
        "이름길이 = len(이름)\n",
        "print(이름)\n",
        "print(이름길이)"
      ],
      "metadata": {
        "colab": {
          "base_uri": "https://localhost:8080/"
        },
        "id": "G5Dtyrah4vdK",
        "outputId": "6344bf0e-f6a0-4a84-c8c2-f759002a761a"
      },
      "execution_count": null,
      "outputs": [
        {
          "output_type": "stream",
          "name": "stdout",
          "text": [
            "나\n",
            "1\n"
          ]
        }
      ]
    },
    {
      "cell_type": "code",
      "source": [
        "print(type(이름길이))"
      ],
      "metadata": {
        "colab": {
          "base_uri": "https://localhost:8080/"
        },
        "id": "d-VhjxSt8TzD",
        "outputId": "fc932e0a-c013-4bca-d84c-1e5023c73f18"
      },
      "execution_count": null,
      "outputs": [
        {
          "output_type": "stream",
          "name": "stdout",
          "text": [
            "<class 'int'>\n"
          ]
        }
      ]
    },
    {
      "cell_type": "code",
      "source": [
        "print([1,2,3,4,5]) #[자료,자료,자료]"
      ],
      "metadata": {
        "colab": {
          "base_uri": "https://localhost:8080/"
        },
        "id": "P2SMGenq8hSV",
        "outputId": "99aa5fbc-8972-4650-c801-29510248dbb3"
      },
      "execution_count": null,
      "outputs": [
        {
          "output_type": "stream",
          "name": "stdout",
          "text": [
            "[1, 2, 3, 4, 5]\n"
          ]
        }
      ]
    },
    {
      "cell_type": "code",
      "source": [
        "배열 = [-1,1972,19**3,\"윤준서\",[1,2,3]]\n",
        "print(배열)"
      ],
      "metadata": {
        "colab": {
          "base_uri": "https://localhost:8080/"
        },
        "id": "raltDcd-9Qso",
        "outputId": "39c83756-7054-4e8d-d012-fec754df5aad"
      },
      "execution_count": null,
      "outputs": [
        {
          "output_type": "stream",
          "name": "stdout",
          "text": [
            "[-1, 1972, 6859, '윤준서', [1, 2, 3]]\n"
          ]
        }
      ]
    },
    {
      "cell_type": "code",
      "source": [
        "print(배열[0])\n",
        "print(배열[2])"
      ],
      "metadata": {
        "colab": {
          "base_uri": "https://localhost:8080/"
        },
        "id": "tuyfrAKY9kuO",
        "outputId": "e4517433-4b57-4202-d294-025d6435359d"
      },
      "execution_count": null,
      "outputs": [
        {
          "output_type": "stream",
          "name": "stdout",
          "text": [
            "-1\n",
            "6859\n"
          ]
        }
      ]
    },
    {
      "cell_type": "code",
      "source": [
        "print(배열[4][1])"
      ],
      "metadata": {
        "colab": {
          "base_uri": "https://localhost:8080/"
        },
        "id": "1l4NxaF7943g",
        "outputId": "96488adb-ca1d-4fd1-88e5-de2351a67fc5"
      },
      "execution_count": null,
      "outputs": [
        {
          "output_type": "stream",
          "name": "stdout",
          "text": [
            "2\n"
          ]
        }
      ]
    },
    {
      "cell_type": "code",
      "source": [
        "print(배열[len(배열)-1])#맨끝"
      ],
      "metadata": {
        "colab": {
          "base_uri": "https://localhost:8080/"
        },
        "id": "WD_hGhjQ-Ncw",
        "outputId": "0a2d83fd-3d1f-49a6-b707-50e46d7f16ad"
      },
      "execution_count": null,
      "outputs": [
        {
          "output_type": "stream",
          "name": "stdout",
          "text": [
            "[1, 2, 3]\n"
          ]
        }
      ]
    },
    {
      "cell_type": "code",
      "source": [
        "print(배열[-1])#마지막"
      ],
      "metadata": {
        "colab": {
          "base_uri": "https://localhost:8080/"
        },
        "id": "wkJZLCr9-rr2",
        "outputId": "d52cc5a6-1559-4baf-b779-e19f3a500915"
      },
      "execution_count": null,
      "outputs": [
        {
          "output_type": "stream",
          "name": "stdout",
          "text": [
            "[1, 2, 3]\n"
          ]
        }
      ]
    },
    {
      "cell_type": "code",
      "source": [
        "print(배열[1:3])#1번쨰부터 3번째전까지"
      ],
      "metadata": {
        "colab": {
          "base_uri": "https://localhost:8080/"
        },
        "id": "TvRREs1P-4Ht",
        "outputId": "fc7c0e1c-00aa-4576-c10a-0f8fccef66c3"
      },
      "execution_count": null,
      "outputs": [
        {
          "output_type": "stream",
          "name": "stdout",
          "text": [
            "[1972, 6859]\n"
          ]
        }
      ]
    },
    {
      "cell_type": "code",
      "source": [
        "배열[-1] = 10 \n",
        "print(배열)"
      ],
      "metadata": {
        "colab": {
          "base_uri": "https://localhost:8080/"
        },
        "id": "KgMOsoN6_I93",
        "outputId": "77c8df04-9848-43e8-964b-6c13403a2580"
      },
      "execution_count": null,
      "outputs": [
        {
          "output_type": "stream",
          "name": "stdout",
          "text": [
            "[-1, 1972, 6859, '윤준서', 10]\n"
          ]
        }
      ]
    },
    {
      "cell_type": "code",
      "source": [
        "배열[:][-1] = [1,2,3] #복사본\n",
        "print(배열)"
      ],
      "metadata": {
        "colab": {
          "base_uri": "https://localhost:8080/"
        },
        "id": "yBcPHPJs_QTm",
        "outputId": "077db3f2-91f4-4ec0-f202-6cc8ecdc81d2"
      },
      "execution_count": null,
      "outputs": [
        {
          "output_type": "stream",
          "name": "stdout",
          "text": [
            "[-1, 1972, 6859, '윤준서', 10]\n"
          ]
        }
      ]
    },
    {
      "cell_type": "code",
      "source": [
        "answer= \"01033334444\"\n",
        "print(len(answer)*\"*\")\n",
        "print(answer[-4:])\n",
        "앞번호 = 문제[:-4]\n",
        "별 = len(앞번호)*\"*\"\n",
        "뒷번호 = 문제[-4:]\n",
        "정답 = 별 + 뒷번호"
      ],
      "metadata": {
        "colab": {
          "base_uri": "https://localhost:8080/"
        },
        "id": "K-S7uK4SFP2S",
        "outputId": "bd8978d3-4f8f-45dc-eaab-2bf37f96f8f5"
      },
      "execution_count": null,
      "outputs": [
        {
          "output_type": "stream",
          "name": "stdout",
          "text": [
            "***********\n",
            "4444\n"
          ]
        }
      ]
    },
    {
      "cell_type": "code",
      "source": [
        "print(len(answer[0:-4])*\"*\"+answer[-4:])"
      ],
      "metadata": {
        "colab": {
          "base_uri": "https://localhost:8080/"
        },
        "id": "jHNvSYOtGeiH",
        "outputId": "23f956cd-ffdb-431f-a18e-b533c560073c"
      },
      "execution_count": null,
      "outputs": [
        {
          "output_type": "stream",
          "name": "stdout",
          "text": [
            "*******4444\n"
          ]
        }
      ]
    },
    {
      "cell_type": "code",
      "source": [
        ""
      ],
      "metadata": {
        "id": "g_vUGuaMH5eq"
      },
      "execution_count": null,
      "outputs": []
    }
  ]
}
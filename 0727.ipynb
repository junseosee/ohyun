{
  "nbformat": 4,
  "nbformat_minor": 0,
  "metadata": {
    "colab": {
      "name": "0727.ipynb",
      "provenance": []
    },
    "kernelspec": {
      "name": "python3",
      "display_name": "Python 3"
    },
    "language_info": {
      "name": "python"
    }
  },
  "cells": [
    {
      "cell_type": "markdown",
      "source": [
        "함수\n",
        "\n",
        "함수란 어떤기능을 제공하는것<br>\n",
        "우리가 이전시간에 만들었던 계산기를 살펴 보겠습니다"
      ],
      "metadata": {
        "id": "EeqSY9qTFnQu"
      }
    },
    {
      "cell_type": "code",
      "source": [
        "while True:\n",
        "  #입력값 받기\n",
        "  사칙연산 = input(\"사칙연산 기호(+,-,*,/,**)를 입력하시오\")\n",
        "  첫번째숫자 = int(input(\"첫번쨰 숫자를 적으세요\"))\n",
        "  두번째숫자 = int(input(\"두번쨰 숫자를 적으세요\"))\n",
        "  #계산 및 출력\n",
        "  if 사칙연산 == \"+\":\n",
        "    print(\"더하기입니다\")\n",
        "    print(첫번째숫자 + 두번째숫자)\n",
        "  elif 사칙연산 == \"-\":\n",
        "    print(\"빼기입니다\")\n",
        "    print(첫번째숫자 - 두번째숫자)\n",
        "  elif 사칙연산 == \"*\":\n",
        "    print(\"곱하기입니다\")\n",
        "    print(첫번째숫자 * 두번째숫자)\n",
        "  elif 사칙연산 == \"/\":\n",
        "    print(\"나누기입니다\")\n",
        "    print(첫번째숫자/두번째숫자)\n",
        "  elif 사칙연산 == \"**\":\n",
        "    print(\"제곱입니다\")\n",
        "    print(첫번째숫자**두번째숫자)\n",
        "    #종료 여부 확인후 종료\n",
        "    종료여부 = input(\"종료하려면 1을 입력하세여\")\n",
        "    if 종료여부 == \"1\":\n",
        "      print(\"종료합니다.\")\n",
        "      break"
      ],
      "metadata": {
        "id": "gkL-kO55F7HZ"
      },
      "execution_count": null,
      "outputs": []
    },
    {
      "cell_type": "code",
      "source": [
        "#함수만들기, 함수 정의, 함수 선언\n",
        "def hello():\n",
        "  print(\"안녕하세요\")"
      ],
      "metadata": {
        "id": "LE1XGx0VJrKv"
      },
      "execution_count": null,
      "outputs": []
    },
    {
      "cell_type": "code",
      "source": [
        "hello()"
      ],
      "metadata": {
        "colab": {
          "base_uri": "https://localhost:8080/"
        },
        "id": "b7YW9EXTLL0E",
        "outputId": "3d636722-a184-45b9-a07c-5c154b0bc60e"
      },
      "execution_count": null,
      "outputs": [
        {
          "output_type": "stream",
          "name": "stdout",
          "text": [
            "안녕하세요\n"
          ]
        }
      ]
    },
    {
      "cell_type": "code",
      "source": [
        "def helloToName(name):\n",
        "  print(name,\"님 안녕하세요\")"
      ],
      "metadata": {
        "id": "NQQIYyp7LXSY"
      },
      "execution_count": null,
      "outputs": []
    },
    {
      "cell_type": "code",
      "source": [
        "helloToName(\"윤준서\")"
      ],
      "metadata": {
        "colab": {
          "base_uri": "https://localhost:8080/"
        },
        "id": "SVXPXvo1LiXJ",
        "outputId": "47abce53-e461-4222-b149-7374c3b269cf"
      },
      "execution_count": null,
      "outputs": [
        {
          "output_type": "stream",
          "name": "stdout",
          "text": [
            "윤준서 님 안녕하세요\n"
          ]
        }
      ]
    },
    {
      "cell_type": "code",
      "source": [
        "def add(num,num2):\n",
        "  result = num+num2"
      ],
      "metadata": {
        "id": "dNMokqSHLrUx"
      },
      "execution_count": null,
      "outputs": []
    },
    {
      "cell_type": "code",
      "source": [
        "add(1,2)\n",
        "addResult = add(1,2)\n",
        "print(addResult)"
      ],
      "metadata": {
        "colab": {
          "base_uri": "https://localhost:8080/"
        },
        "id": "N21er-ZqMjeK",
        "outputId": "72e1fa13-96de-41bc-c8a4-5bc805f34892"
      },
      "execution_count": null,
      "outputs": [
        {
          "output_type": "stream",
          "name": "stdout",
          "text": [
            "None\n"
          ]
        }
      ]
    },
    {
      "cell_type": "code",
      "source": [
        "def add2(num,num2):\n",
        "  result = num+num2\n",
        "  return result"
      ],
      "metadata": {
        "id": "0X38bAaDMLeq"
      },
      "execution_count": null,
      "outputs": []
    },
    {
      "cell_type": "code",
      "source": [
        "add2(1,23)"
      ],
      "metadata": {
        "id": "ljf_LEKaL4Ex"
      },
      "execution_count": null,
      "outputs": []
    },
    {
      "cell_type": "code",
      "source": [
        "addResult2 = add2(1,23)"
      ],
      "metadata": {
        "id": "Yyc-jh97MAJV"
      },
      "execution_count": null,
      "outputs": []
    },
    {
      "cell_type": "code",
      "source": [
        "print(addResult2)"
      ],
      "metadata": {
        "colab": {
          "base_uri": "https://localhost:8080/"
        },
        "id": "cIE7uir8MFbf",
        "outputId": "caab302a-39e7-4b07-fdd8-d115bb265da8"
      },
      "execution_count": null,
      "outputs": [
        {
          "output_type": "stream",
          "name": "stdout",
          "text": [
            "24\n"
          ]
        }
      ]
    },
    {
      "cell_type": "code",
      "source": [
        "def add3(num,num2):\n",
        "  result = num+num2\n",
        "  return result\n",
        "  print(\"hi\")\n",
        "add3(1,2)"
      ],
      "metadata": {
        "colab": {
          "base_uri": "https://localhost:8080/"
        },
        "id": "peAbw9s8NMLr",
        "outputId": "61968120-f886-449b-91b1-06be9e5e729d"
      },
      "execution_count": null,
      "outputs": [
        {
          "output_type": "execute_result",
          "data": {
            "text/plain": [
              "3"
            ]
          },
          "metadata": {},
          "execution_count": 39
        }
      ]
    },
    {
      "cell_type": "code",
      "source": [
        "def x빼기y(y,x):\n",
        "  뺄셈결과 = x-y\n",
        "  print(뺄셈결과)\n",
        "x빼기y(20,10)\n",
        "x빼기y(x=20, y=10)"
      ],
      "metadata": {
        "colab": {
          "base_uri": "https://localhost:8080/"
        },
        "id": "t6woqPEDN3K5",
        "outputId": "ebe98fdd-0e03-42c7-8979-be2919210d69"
      },
      "execution_count": null,
      "outputs": [
        {
          "output_type": "stream",
          "name": "stdout",
          "text": [
            "-10\n",
            "10\n"
          ]
        }
      ]
    },
    {
      "cell_type": "code",
      "source": [
        "def 덧셈뺄셈(x,y):\n",
        "  덧셈결과 = x+y\n",
        "  뺄셈결과 = x-y\n",
        "  return 덧셈결과,뺄셈결과"
      ],
      "metadata": {
        "id": "_lmBYxh3Ob6K"
      },
      "execution_count": 43,
      "outputs": []
    },
    {
      "cell_type": "code",
      "source": [
        "def 덧셈뺄셈(x,y):\n",
        "    덧셈결과 = x+y\n",
        "    뺄셈결과 = x-y\n",
        "    return 덧셈결과, 뺄셈결과\n",
        "함수실행결과 = 덧셈뺄셈(20,10)#함수실행결과 = (30,10)\n",
        "print(함수실행결과)\n",
        "print(type(함수실행결과))\n",
        "print(함수실행결과[0],함수실행결과[1])\n",
        "덧셈결과=함수실행결과[0]\n",
        "뺄셈결과=함수실행결과[1]\n",
        "print(덧셈결과)\n",
        "print(뺄셈결과)\n"
      ],
      "metadata": {
        "colab": {
          "base_uri": "https://localhost:8080/"
        },
        "id": "F6-XksWBTirn",
        "outputId": "1bd0b7e2-36cd-4a09-c6ae-483479c98070"
      },
      "execution_count": 44,
      "outputs": [
        {
          "output_type": "stream",
          "name": "stdout",
          "text": [
            "(30, 10)\n",
            "<class 'tuple'>\n",
            "30 10\n",
            "30\n",
            "10\n"
          ]
        }
      ]
    },
    {
      "cell_type": "code",
      "source": [
        "#튜플을 아래와같이 변수에할당 가능하다\n",
        "튜플값1, 튜플값2 = (1,2)\n",
        "print(튜플값1)"
      ],
      "metadata": {
        "colab": {
          "base_uri": "https://localhost:8080/"
        },
        "id": "SbBWiKEIUw7q",
        "outputId": "d7171830-aaf4-49a6-b6d3-3d3c6270e650"
      },
      "execution_count": 45,
      "outputs": [
        {
          "output_type": "stream",
          "name": "stdout",
          "text": [
            "1\n"
          ]
        }
      ]
    },
    {
      "cell_type": "code",
      "source": [
        "def 값입력하기():\n",
        "  사칙연산 = input(\"사칙연산 기호(+,-,*,/,**)를 입력하시오\")\n",
        "  첫번째숫자 = int(input(\"첫번쨰 숫자를 적으세요\"))\n",
        "  두번째숫자 = int(input(\"두번쨰 숫자를 적으세요\"))\n",
        "  return 사칙연산, 첫번째숫자, 두번째숫자"
      ],
      "metadata": {
        "id": "Riw3JpunVJSa"
      },
      "execution_count": 46,
      "outputs": []
    },
    {
      "cell_type": "code",
      "source": [
        "사칙연산,첫번째숫자,두번째숫자 = 값입력하기()\n"
      ],
      "metadata": {
        "colab": {
          "base_uri": "https://localhost:8080/"
        },
        "id": "pTczm-5TV0__",
        "outputId": "8145b264-8306-4fab-eaf8-0e81020a3f9e"
      },
      "execution_count": 51,
      "outputs": [
        {
          "name": "stdout",
          "output_type": "stream",
          "text": [
            "사칙연산 기호(+,-,*,/,**)를 입력하시오**\n",
            "첫번쨰 숫자를 적으세요1972\n",
            "두번쨰 숫자를 적으세요191972\n"
          ]
        }
      ]
    },
    {
      "cell_type": "code",
      "source": [
        "print(사칙연산,첫번째숫자,두번째숫자)"
      ],
      "metadata": {
        "colab": {
          "base_uri": "https://localhost:8080/"
        },
        "id": "Yy97Evx8V7Gw",
        "outputId": "36be7f40-d570-4d7a-c754-5fb789a7572e"
      },
      "execution_count": 52,
      "outputs": [
        {
          "output_type": "stream",
          "name": "stdout",
          "text": [
            "** 1972 191972\n"
          ]
        }
      ]
    },
    {
      "cell_type": "code",
      "source": [
        "def 계산및출력(사칙연산, 첫번째숫자, 두번째숫자):\n",
        "  if 사칙연산 == \"+\":\n",
        "    print(\"더하기입니다\")\n",
        "    print(첫번째숫자 + 두번째숫자)\n",
        "  elif 사칙연산 == \"-\":\n",
        "    print(\"빼기입니다\")\n",
        "    print(첫번째숫자 - 두번째숫자)\n",
        "  elif 사칙연산 == \"*\":\n",
        "    print(\"곱하기입니다\")\n",
        "    print(첫번째숫자 * 두번째숫자)\n",
        "  elif 사칙연산 == \"/\":\n",
        "    print(\"나누기입니다\")\n",
        "    print(첫번째숫자/두번째숫자)\n",
        "  elif 사칙연산 == \"**\":\n",
        "    print(\"제곱입니다\")\n",
        "    print(첫번째숫자**두번째숫자)"
      ],
      "metadata": {
        "id": "LlYUk0PsWEVd"
      },
      "execution_count": 53,
      "outputs": []
    },
    {
      "cell_type": "code",
      "source": [
        "계산및출력(사칙연산=\"+\", 첫번째숫자=10, 두번째숫자=20)"
      ],
      "metadata": {
        "colab": {
          "base_uri": "https://localhost:8080/"
        },
        "id": "i14eypGoWbl6",
        "outputId": "a838299c-08d0-4d79-9d72-ececf94f9b76"
      },
      "execution_count": 55,
      "outputs": [
        {
          "output_type": "stream",
          "name": "stdout",
          "text": [
            "더하기입니다\n",
            "30\n"
          ]
        }
      ]
    },
    {
      "cell_type": "code",
      "source": [
        "def 종료여부확인():\n",
        "  종료여부 = input(\"종료하려면 1을 입력하세요\")\n",
        "  return 종료여부==\"1\""
      ],
      "metadata": {
        "id": "vo0ZyZ-SXba-"
      },
      "execution_count": 60,
      "outputs": []
    },
    {
      "cell_type": "code",
      "source": [
        "종료여부확인()"
      ],
      "metadata": {
        "colab": {
          "base_uri": "https://localhost:8080/"
        },
        "id": "pEussEIDXp4D",
        "outputId": "3e185fb7-79ac-493e-89e8-6037c269ed35"
      },
      "execution_count": 61,
      "outputs": [
        {
          "name": "stdout",
          "output_type": "stream",
          "text": [
            "종료하려면 1을 입력하세요1\n"
          ]
        },
        {
          "output_type": "execute_result",
          "data": {
            "text/plain": [
              "True"
            ]
          },
          "metadata": {},
          "execution_count": 61
        }
      ]
    },
    {
      "cell_type": "code",
      "source": [
        "while True:\n",
        "  기호, 첫번째숫자,두번째숫자 = 값입력하기()\n",
        "  계산및출력(기호,첫번째숫자,두번째숫자)\n",
        "  종료여부 = 종료여부확인()\n",
        "  if 종료여부:\n",
        "    break"
      ],
      "metadata": {
        "id": "RC9OFVOnYkcZ"
      },
      "execution_count": null,
      "outputs": []
    },
    {
      "cell_type": "code",
      "source": [
        "def 계산기():\n",
        "  while True:\n",
        "   기호, 첫번째숫자,두번째숫자 = 값입력하기()\n",
        "   계산및출력(기호,첫번째숫자,두번째숫자)\n",
        "   종료여부 = 종료여부확인()\n",
        "   if 종료여부:\n",
        "     break\n"
      ],
      "metadata": {
        "id": "M6ZqHc0CaALM"
      },
      "execution_count": 69,
      "outputs": []
    },
    {
      "cell_type": "code",
      "source": [
        "계산기()"
      ],
      "metadata": {
        "id": "46YhUEMRaNJq"
      },
      "execution_count": null,
      "outputs": []
    },
    {
      "cell_type": "code",
      "source": [
        "num=1\n",
        "print(type(num))"
      ],
      "metadata": {
        "colab": {
          "base_uri": "https://localhost:8080/"
        },
        "id": "8TDzlWwNiz8Y",
        "outputId": "2e187c3d-a2e2-4100-fd57-028cde21966f"
      },
      "execution_count": 75,
      "outputs": [
        {
          "output_type": "stream",
          "name": "stdout",
          "text": [
            "<class 'int'>\n"
          ]
        }
      ]
    },
    {
      "cell_type": "code",
      "source": [
        "string=\"hello\"\n",
        "print(type(string))"
      ],
      "metadata": {
        "colab": {
          "base_uri": "https://localhost:8080/"
        },
        "id": "eu0N1JkKjBfe",
        "outputId": "84302000-2dbe-4c9b-b4e4-3a1f76b9248b"
      },
      "execution_count": 76,
      "outputs": [
        {
          "output_type": "stream",
          "name": "stdout",
          "text": [
            "<class 'str'>\n"
          ]
        }
      ]
    },
    {
      "cell_type": "code",
      "source": [
        "class Animal:\n",
        "  pass"
      ],
      "metadata": {
        "id": "yIcE0F9Ijb_z"
      },
      "execution_count": 77,
      "outputs": []
    },
    {
      "cell_type": "code",
      "source": [
        "animal = Animal()\n",
        "print(type(animal))"
      ],
      "metadata": {
        "colab": {
          "base_uri": "https://localhost:8080/"
        },
        "id": "rOKzOh5-jgcW",
        "outputId": "273ecfe9-8a7f-4725-9828-8dde259b3251"
      },
      "execution_count": 78,
      "outputs": [
        {
          "output_type": "stream",
          "name": "stdout",
          "text": [
            "<class '__main__.Animal'>\n"
          ]
        }
      ]
    },
    {
      "cell_type": "code",
      "source": [
        "class Animal:\n",
        "  kor = \"동물\"\n",
        "  def 숨쉬기():\n",
        "    print(\"숨을 쉽니다\")\n",
        "  def 움직이기():\n",
        "    print(\"몸을 움직입니다\")"
      ],
      "metadata": {
        "id": "GgdRoOmPkEUh"
      },
      "execution_count": 87,
      "outputs": []
    },
    {
      "cell_type": "code",
      "source": [
        "개 = Animal()\n",
        "print(type(개))\n",
        "Animal.숨쉬기()\n",
        "Animal.움직이기()\n",
        "print(\"===========================\")\n",
        "개.숨쉬기()\n",
        "개.움직이기()"
      ],
      "metadata": {
        "colab": {
          "base_uri": "https://localhost:8080/",
          "height": 269
        },
        "id": "gsqY99kakWjs",
        "outputId": "c228e49c-71b5-4e2a-ae0a-28c79f12ad43"
      },
      "execution_count": 121,
      "outputs": [
        {
          "output_type": "stream",
          "name": "stdout",
          "text": [
            "죽었습니다\n"
          ]
        },
        {
          "output_type": "error",
          "ename": "TypeError",
          "evalue": "ignored",
          "traceback": [
            "\u001b[0;31m---------------------------------------------------------------------------\u001b[0m",
            "\u001b[0;31mTypeError\u001b[0m                                 Traceback (most recent call last)",
            "\u001b[0;32m<ipython-input-121-ff4527f3f76d>\u001b[0m in \u001b[0;36m<module>\u001b[0;34m()\u001b[0m\n\u001b[0;32m----> 1\u001b[0;31m \u001b[0m개\u001b[0m \u001b[0;34m=\u001b[0m \u001b[0mAnimal\u001b[0m\u001b[0;34m(\u001b[0m\u001b[0;34m)\u001b[0m\u001b[0;34m\u001b[0m\u001b[0;34m\u001b[0m\u001b[0m\n\u001b[0m\u001b[1;32m      2\u001b[0m \u001b[0mprint\u001b[0m\u001b[0;34m(\u001b[0m\u001b[0mtype\u001b[0m\u001b[0;34m(\u001b[0m\u001b[0m개\u001b[0m\u001b[0;34m)\u001b[0m\u001b[0;34m)\u001b[0m\u001b[0;34m\u001b[0m\u001b[0;34m\u001b[0m\u001b[0m\n\u001b[1;32m      3\u001b[0m \u001b[0mAnimal\u001b[0m\u001b[0;34m.\u001b[0m\u001b[0m숨쉬기\u001b[0m\u001b[0;34m(\u001b[0m\u001b[0;34m)\u001b[0m\u001b[0;34m\u001b[0m\u001b[0;34m\u001b[0m\u001b[0m\n\u001b[1;32m      4\u001b[0m \u001b[0mAnimal\u001b[0m\u001b[0;34m.\u001b[0m\u001b[0m움직이기\u001b[0m\u001b[0;34m(\u001b[0m\u001b[0;34m)\u001b[0m\u001b[0;34m\u001b[0m\u001b[0;34m\u001b[0m\u001b[0m\n\u001b[1;32m      5\u001b[0m \u001b[0mprint\u001b[0m\u001b[0;34m(\u001b[0m\u001b[0;34m\"===========================\"\u001b[0m\u001b[0;34m)\u001b[0m\u001b[0;34m\u001b[0m\u001b[0;34m\u001b[0m\u001b[0m\n",
            "\u001b[0;31mTypeError\u001b[0m: __init__() missing 2 required positional arguments: '키' and '생일'"
          ]
        }
      ]
    },
    {
      "cell_type": "code",
      "source": [
        "class Animal:\n",
        "  kor = \"동물\"\n",
        "  def 숨쉬기(self):\n",
        "    print(\"숨을 쉽니다\")\n",
        "  def 움직이기(self):\n",
        "    print(\"몸을 움직입니다\")\n",
        "  def 말하기(self, 문장):\n",
        "    print(문장)\n",
        "animal = Animal()\n",
        "animal.숨쉬기()\n",
        "animal.움직이기()\n",
        "animal.말하기(\"안녕하세용\")\n",
        "print(animal.kor)"
      ],
      "metadata": {
        "colab": {
          "base_uri": "https://localhost:8080/"
        },
        "id": "Qi7fSmnFlNzt",
        "outputId": "5e1d0c3a-87ae-47ec-b38f-6d1a5042b371"
      },
      "execution_count": 154,
      "outputs": [
        {
          "output_type": "stream",
          "name": "stdout",
          "text": [
            "숨을 쉽니다\n",
            "몸을 움직입니다\n",
            "안녕하세용\n",
            "동물\n"
          ]
        }
      ]
    },
    {
      "cell_type": "code",
      "source": [
        "class Animal:\n",
        "  kor = \"동물\"\n",
        "  def __init__(self):\n",
        "    print(\"태어났습니다\")\n",
        "  def 숨쉬기(self):\n",
        "    print(\"숨을 쉽니다\")\n",
        "  def 움직이기(self):\n",
        "    print(\"몸을 움직입니다\")\n",
        "  def 말하기(self, 문장):\n",
        "    print(문장)\n",
        "  def __del__(self):\n",
        "    print(\"죽었습니다\")\n",
        "animal = Animal()\n",
        "print(\"=============================================================================================================================================================\")\n",
        "del animal"
      ],
      "metadata": {
        "colab": {
          "base_uri": "https://localhost:8080/"
        },
        "id": "6IDa5x2JmRyf",
        "outputId": "dd6873fc-dcc7-4fe1-d9a9-732986087fe9"
      },
      "execution_count": 155,
      "outputs": [
        {
          "output_type": "stream",
          "name": "stdout",
          "text": [
            "태어났습니다\n",
            "=============================================================================================================================================================\n",
            "죽었습니다\n"
          ]
        }
      ]
    },
    {
      "cell_type": "code",
      "source": [
        "class Animal:\n",
        "  kor = \"동물\"\n",
        "  def __init__(self,키,생일):\n",
        "    self.키 = 키\n",
        "    self.생일 = 생일\n",
        "    print(\"태어났습니다\")\n",
        "  def 키얻기(self):\n",
        "     print(f\"키는 {self.키}cm 입니다\")\n",
        "  def 생일얻기(self):\n",
        "    print(f\"생일은 {self.생일}입니다\")\n",
        "  def 숨쉬기(self):\n",
        "    print(\"숨을 쉽니다\")\n",
        "  def 움직이기(self):\n",
        "    print(\"몸을 움직입니다\")\n",
        "  def 말하기(self, 문장):\n",
        "    print(문장)\n",
        "  def __del__(self):\n",
        "    print(\"죽었습니다\")"
      ],
      "metadata": {
        "id": "Tlb_xUa4oRRO"
      },
      "execution_count": 156,
      "outputs": []
    },
    {
      "cell_type": "code",
      "source": [
        "animal = Animal(키=30, 생일=20220727)\n",
        "print(animal.키)\n",
        "animal.키얻기()"
      ],
      "metadata": {
        "colab": {
          "base_uri": "https://localhost:8080/"
        },
        "id": "tMmUyQDdmA0s",
        "outputId": "c2655509-ac3d-4250-9d76-71d8ddc66e59"
      },
      "execution_count": 157,
      "outputs": [
        {
          "output_type": "stream",
          "name": "stdout",
          "text": [
            "태어났습니다\n",
            "30\n",
            "키는 30cm 입니다\n"
          ]
        }
      ]
    },
    {
      "cell_type": "code",
      "source": [
        "print(type(animal.말하기))"
      ],
      "metadata": {
        "colab": {
          "base_uri": "https://localhost:8080/"
        },
        "id": "Z16RDHP9qZV2",
        "outputId": "626d53b5-1fbe-41dd-9335-6ac875f97ce8"
      },
      "execution_count": 158,
      "outputs": [
        {
          "output_type": "stream",
          "name": "stdout",
          "text": [
            "<class 'method'>\n"
          ]
        }
      ]
    },
    {
      "cell_type": "code",
      "source": [
        "class 개(Animal):\n",
        "   def 짖기(self):\n",
        "    print(\"멍\")"
      ],
      "metadata": {
        "id": "O_Ipy2e6q6yj"
      },
      "execution_count": 159,
      "outputs": []
    },
    {
      "cell_type": "code",
      "source": [
        "요크셔 = 개(키=30, 생일=\"오늘\")\n",
        "요크셔.짖기()"
      ],
      "metadata": {
        "colab": {
          "base_uri": "https://localhost:8080/"
        },
        "id": "6oaG_GaLrVD7",
        "outputId": "24f135a7-b178-48eb-bcfc-4ef37d4247a5"
      },
      "execution_count": 160,
      "outputs": [
        {
          "output_type": "stream",
          "name": "stdout",
          "text": [
            "태어났습니다\n",
            "멍\n"
          ]
        }
      ]
    },
    {
      "cell_type": "code",
      "source": [
        "요크셔.키얻기()"
      ],
      "metadata": {
        "colab": {
          "base_uri": "https://localhost:8080/"
        },
        "id": "i4EQRgZgrkyl",
        "outputId": "bf7de686-e8fc-4d33-cfe3-5c9f9ff2e9df"
      },
      "execution_count": 161,
      "outputs": [
        {
          "output_type": "stream",
          "name": "stdout",
          "text": [
            "키는 30cm 입니다\n"
          ]
        }
      ]
    },
    {
      "cell_type": "code",
      "source": [
        "del 요크셔"
      ],
      "metadata": {
        "colab": {
          "base_uri": "https://localhost:8080/"
        },
        "id": "DiqIcA7-rokb",
        "outputId": "15fba023-fae2-4b73-c12f-bb621024ce0c"
      },
      "execution_count": 162,
      "outputs": [
        {
          "output_type": "stream",
          "name": "stdout",
          "text": [
            "죽었습니다\n"
          ]
        }
      ]
    },
    {
      "cell_type": "code",
      "source": [
        ""
      ],
      "metadata": {
        "id": "CNJhTQiIsBru"
      },
      "execution_count": 162,
      "outputs": []
    }
  ]
}